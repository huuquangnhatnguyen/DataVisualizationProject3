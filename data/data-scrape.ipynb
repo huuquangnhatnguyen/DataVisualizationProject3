{
 "cells": [
  {
   "cell_type": "code",
   "execution_count": null,
   "id": "c8ab6d1f",
   "metadata": {},
   "outputs": [],
   "source": [
    "import csv\n",
    "import re\n",
    "from single_web_scrape import scrape_spans"
   ]
  },
  {
   "cell_type": "code",
   "execution_count": 10,
   "id": "8f4c493d",
   "metadata": {},
   "outputs": [],
   "source": [
    "def parse_title_line(title_line):\n",
    "    \"\"\"\n",
    "    Attempt to parse lines like:\n",
    "        'Series 01 Episode 01 – Pilot Episode'\n",
    "        'Series 10 Episode 03 -The Dependence Transcendence'\n",
    "    into three parts:\n",
    "        Series='Series 01', Episode='Episode 01', EpisodeTitle='Pilot Episode'.\n",
    "\n",
    "    Fallback: If it doesn't match, just return placeholders.\n",
    "    \"\"\"\n",
    "    # This pattern:\n",
    "    #  1) Allows 'Series' + digits, then 'Episode' + digits,\n",
    "    #  2) Accepts any dash-like character ('-', '–', '—') between Episode and the title,\n",
    "    #  3) Allows 0 or more spaces around that dash.\n",
    "    pattern = r'^(Series\\s*\\d+)\\s+(Episode\\s*\\d+)\\s*[-–—]\\s*(.*)$'\n",
    "    match = re.match(pattern, title_line)\n",
    "    if match:\n",
    "        series_part = match.group(1).strip()\n",
    "        episode_part = match.group(2).strip()\n",
    "        episode_title = match.group(3).strip()\n",
    "        return series_part, episode_part, episode_title\n",
    "    else:\n",
    "        return \"Unknown Series\", \"Unknown Episode\", title_line\n"
   ]
  },
  {
   "cell_type": "code",
   "execution_count": null,
   "id": "300601dd",
   "metadata": {},
   "outputs": [],
   "source": [
    "scene_pattern = re.compile(r'^Scene:\\s*(.*)$', re.IGNORECASE)\n",
    "speaker_dialogue_pattern = re.compile(r'^(.*?):\\s*(.*)$')\n",
    "\n",
    "def parse_script_lines(lines):\n",
    "    \"\"\"\n",
    "    Given the list of lines from 'scrape_spans',\n",
    "    1) The first line is the title line for Series/Episode.\n",
    "    2) We parse subsequent lines for Scene, Speaker, or Dialogue.\n",
    "    3) Return a list of (Series, Episode, Episode Title, Scene, Speaker, Dialogue).\n",
    "    \"\"\"\n",
    "\n",
    "    # 1) Parse the first line for Series, Episode, Episode Title\n",
    "    series_part, episode_part, episode_title = parse_title_line(lines[0])\n",
    "\n",
    "    data_rows = []\n",
    "    current_scene = \"\"  # Initialize current scene to empty string\n",
    "\n",
    "    for line in lines[1:]:\n",
    "        line = line.strip()\n",
    "        if not line:\n",
    "            # Skip empty lines\n",
    "            continue\n",
    "\n",
    "        # Check if the line is a scene\n",
    "        scene_match = scene_pattern.match(line)\n",
    "        if scene_match:\n",
    "            # Update current scene\n",
    "            current_scene = scene_match.group(1).strip()\n",
    "            continue\n",
    "\n",
    "        # Otherwise check if it's a speaker line\n",
    "        speaker_match = speaker_dialogue_pattern.match(line)\n",
    "        if speaker_match:\n",
    "            speaker = speaker_match.group(1).strip()\n",
    "            dialogue = speaker_match.group(2).strip()\n",
    "        else:\n",
    "            # Neither scene nor speaker => treat entire line as dialogue, no speaker\n",
    "            speaker = \"\"\n",
    "            dialogue = line\n",
    "\n",
    "        data_rows.append((\n",
    "            series_part,\n",
    "            episode_part,\n",
    "            episode_title,\n",
    "            current_scene,\n",
    "            speaker,\n",
    "            dialogue\n",
    "        ))\n",
    "\n",
    "    return data_rows\n"
   ]
  },
  {
   "cell_type": "code",
   "execution_count": null,
   "id": "b033e24e",
   "metadata": {},
   "outputs": [
    {
     "name": "stdout",
     "output_type": "stream",
     "text": [
      "Finished writing scripts to big_bang_scripts.csv.\n"
     ]
    }
   ],
   "source": [
    "def main():\n",
    "    input_csv = \"collected_urls.csv\" # Run the collect_urls.py script first then use this file\n",
    "    output_csv = \"big_bang_scripts.csv\"\n",
    "\n",
    "    with open(output_csv, mode=\"w\", newline=\"\", encoding=\"utf-8\") as out_file:\n",
    "        writer = csv.writer(out_file)\n",
    "        writer.writerow([\"Series\", \"Episode\", \"Episode Title\", \"Scene\", \"Speaker\", \"Dialogue\"])\n",
    "\n",
    "        with open(input_csv, mode=\"r\", encoding=\"utf-8\") as in_file:\n",
    "            for row in csv.reader(in_file):\n",
    "                if not row:\n",
    "                    continue\n",
    "                url = row[0].strip()\n",
    "                if not url:\n",
    "                    continue\n",
    "\n",
    "                # 1) Scrape all lines from that URL\n",
    "                lines = scrape_spans(url)\n",
    "                if not lines:\n",
    "                    continue\n",
    "\n",
    "                # 2) Parse them into rows with (Series, Episode, Episode Title, Scene, Speaker, Dialogue)\n",
    "                parsed_rows = parse_script_lines(lines)\n",
    "\n",
    "                # 3) Write them out\n",
    "                for p_row in parsed_rows:\n",
    "                    writer.writerow(p_row)\n",
    "\n",
    "    print(f\"Finished writing scripts to {output_csv}.\")\n",
    "\n",
    "if __name__ == \"__main__\":\n",
    "    main()\n"
   ]
  }
 ],
 "metadata": {
  "kernelspec": {
   "display_name": "Python 3",
   "language": "python",
   "name": "python3"
  },
  "language_info": {
   "codemirror_mode": {
    "name": "ipython",
    "version": 3
   },
   "file_extension": ".py",
   "mimetype": "text/x-python",
   "name": "python",
   "nbconvert_exporter": "python",
   "pygments_lexer": "ipython3",
   "version": "3.12.8"
  }
 },
 "nbformat": 4,
 "nbformat_minor": 5
}
