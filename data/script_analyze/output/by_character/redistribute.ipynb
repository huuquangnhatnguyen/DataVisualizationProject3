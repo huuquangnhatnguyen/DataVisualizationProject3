{
 "cells": [
  {
   "cell_type": "code",
   "execution_count": null,
   "id": "448c5f59",
   "metadata": {},
   "outputs": [],
   "source": [
    "import pandas as pd\n",
    "import numpy as np\n",
    "\n",
    "def redistribute_counts(file_path, output_path=None):\n",
    "    \"\"\"\n",
    "    Redistributes counts of non-series words into their series counterparts.\n",
    "    \n",
    "    Args:\n",
    "        file_path: Path to the input CSV file\n",
    "        output_path: Optional path for the output CSV file. If not provided, returns DataFrame\n",
    "    \"\"\"\n",
    "    # Try to read the file and determine if it has a header\n",
    "    try:\n",
    "        # First, try reading the file with the first row as header\n",
    "        data = pd.read_csv(file_path)\n",
    "        # If successful and 'count' is a column name, then we have a header\n",
    "        if 'count' in data.columns:\n",
    "            # We already have the right column names\n",
    "            pass\n",
    "        else:\n",
    "            # The file has a header but not our expected column names\n",
    "            # Read again with no header and assign column names\n",
    "            data = pd.read_csv(file_path, header=None)\n",
    "            data.columns = ['id', 'character', 'series', 'word', 'count']\n",
    "    except:\n",
    "        # Reading file without a header\n",
    "        data = pd.read_csv(file_path, header=None)\n",
    "        data.columns = ['id', 'character', 'series', 'word', 'count']\n",
    "    \n",
    "    # Convert the count column to integer\n",
    "    data['count'] = pd.to_numeric(data['count'], errors='coerce')\n",
    "    \n",
    "    # Drop any rows where count couldn't be converted to numeric\n",
    "    data = data.dropna(subset=['count'])\n",
    "    data['count'] = data['count'].astype(int)\n",
    "    \n",
    "    # Identify series and non-series data\n",
    "    # Non-series data has empty or NA series field\n",
    "    series_data = data[data['series'].notna() & (data['series'] != '')]\n",
    "    non_series_data = data[(data['series'].isna()) | (data['series'] == '')]\n",
    "    \n",
    "    # Process each word in non-series data\n",
    "    for _, row in non_series_data.iterrows():\n",
    "        word = row['word']\n",
    "        non_series_count = row['count']\n",
    "        \n",
    "        # Find all occurrences of this word in series data\n",
    "        matching_series_rows = series_data[series_data['word'] == word]\n",
    "        \n",
    "        if len(matching_series_rows) > 0:\n",
    "            # Calculate how much to add to each series entry\n",
    "            # We'll distribute the count proportionally based on existing counts\n",
    "            total_series_count = matching_series_rows['count'].sum()\n",
    "            \n",
    "            # Redistribute non-series count proportionally\n",
    "            for idx in matching_series_rows.index:\n",
    "                # Calculate proportion of the non-series count to add\n",
    "                proportion = series_data.loc[idx, 'count'] / total_series_count\n",
    "                # Add the proportional amount to the series count\n",
    "                series_data.loc[idx, 'count'] += round(proportion * non_series_count)\n",
    "    \n",
    "    # Convert back to integer to ensure no decimal values\n",
    "    series_data['count'] = series_data['count'].astype(int)\n",
    "    \n",
    "    # Write the updated series data to output file or return DataFrame\n",
    "    if output_path:\n",
    "        series_data.to_csv(output_path, index=False, header=False)\n",
    "        return f\"Data saved to {output_path}\"\n",
    "    else:\n",
    "        return series_data\n",
    "\n",
    "# Example usage\n",
    "# redistribute_counts('Amy_top_words.csv', 'Amy_top_words_redistributed.csv')"
   ]
  },
  {
   "cell_type": "code",
   "execution_count": 2,
   "id": "4c36d15a",
   "metadata": {},
   "outputs": [
    {
     "name": "stderr",
     "output_type": "stream",
     "text": [
      "C:\\Users\\dungu\\AppData\\Local\\Temp\\ipykernel_27140\\1351642022.py:63: SettingWithCopyWarning: \n",
      "A value is trying to be set on a copy of a slice from a DataFrame.\n",
      "Try using .loc[row_indexer,col_indexer] = value instead\n",
      "\n",
      "See the caveats in the documentation: https://pandas.pydata.org/pandas-docs/stable/user_guide/indexing.html#returning-a-view-versus-a-copy\n",
      "  series_data['count'] = series_data['count'].astype(int)\n"
     ]
    },
    {
     "data": {
      "text/plain": [
       "'Data saved to Amy_top_words_redistributed.csv'"
      ]
     },
     "execution_count": 2,
     "metadata": {},
     "output_type": "execute_result"
    }
   ],
   "source": [
    "redistribute_counts('Amy_top_words.csv', 'Amy_top_words_redistributed.csv')"
   ]
  },
  {
   "cell_type": "code",
   "execution_count": 3,
   "id": "bccc1142",
   "metadata": {},
   "outputs": [
    {
     "name": "stderr",
     "output_type": "stream",
     "text": [
      "C:\\Users\\dungu\\AppData\\Local\\Temp\\ipykernel_27140\\1351642022.py:63: SettingWithCopyWarning: \n",
      "A value is trying to be set on a copy of a slice from a DataFrame.\n",
      "Try using .loc[row_indexer,col_indexer] = value instead\n",
      "\n",
      "See the caveats in the documentation: https://pandas.pydata.org/pandas-docs/stable/user_guide/indexing.html#returning-a-view-versus-a-copy\n",
      "  series_data['count'] = series_data['count'].astype(int)\n",
      "C:\\Users\\dungu\\AppData\\Local\\Temp\\ipykernel_27140\\1351642022.py:63: SettingWithCopyWarning: \n",
      "A value is trying to be set on a copy of a slice from a DataFrame.\n",
      "Try using .loc[row_indexer,col_indexer] = value instead\n",
      "\n",
      "See the caveats in the documentation: https://pandas.pydata.org/pandas-docs/stable/user_guide/indexing.html#returning-a-view-versus-a-copy\n",
      "  series_data['count'] = series_data['count'].astype(int)\n",
      "C:\\Users\\dungu\\AppData\\Local\\Temp\\ipykernel_27140\\1351642022.py:63: SettingWithCopyWarning: \n",
      "A value is trying to be set on a copy of a slice from a DataFrame.\n",
      "Try using .loc[row_indexer,col_indexer] = value instead\n",
      "\n",
      "See the caveats in the documentation: https://pandas.pydata.org/pandas-docs/stable/user_guide/indexing.html#returning-a-view-versus-a-copy\n",
      "  series_data['count'] = series_data['count'].astype(int)\n",
      "C:\\Users\\dungu\\AppData\\Local\\Temp\\ipykernel_27140\\1351642022.py:63: SettingWithCopyWarning: \n",
      "A value is trying to be set on a copy of a slice from a DataFrame.\n",
      "Try using .loc[row_indexer,col_indexer] = value instead\n",
      "\n",
      "See the caveats in the documentation: https://pandas.pydata.org/pandas-docs/stable/user_guide/indexing.html#returning-a-view-versus-a-copy\n",
      "  series_data['count'] = series_data['count'].astype(int)\n",
      "C:\\Users\\dungu\\AppData\\Local\\Temp\\ipykernel_27140\\1351642022.py:63: SettingWithCopyWarning: \n",
      "A value is trying to be set on a copy of a slice from a DataFrame.\n",
      "Try using .loc[row_indexer,col_indexer] = value instead\n",
      "\n",
      "See the caveats in the documentation: https://pandas.pydata.org/pandas-docs/stable/user_guide/indexing.html#returning-a-view-versus-a-copy\n",
      "  series_data['count'] = series_data['count'].astype(int)\n",
      "C:\\Users\\dungu\\AppData\\Local\\Temp\\ipykernel_27140\\1351642022.py:63: SettingWithCopyWarning: \n",
      "A value is trying to be set on a copy of a slice from a DataFrame.\n",
      "Try using .loc[row_indexer,col_indexer] = value instead\n",
      "\n",
      "See the caveats in the documentation: https://pandas.pydata.org/pandas-docs/stable/user_guide/indexing.html#returning-a-view-versus-a-copy\n",
      "  series_data['count'] = series_data['count'].astype(int)\n"
     ]
    }
   ],
   "source": [
    "input_files = ['Bernadette_top_words.csv',\n",
    "         'Howard_top_words.csv', \n",
    "         'Leonard_top_words.csv', \n",
    "         'Penny_top_words.csv', \n",
    "         'Sheldon_top_words.csv',\n",
    "         'Raj_top_words.csv']\n",
    "output_files = ['Bernadette_top_words_redistributed.csv',\n",
    "            'Howard_top_words_redistributed.csv', \n",
    "            'Leonard_top_words_redistributed.csv', \n",
    "            'Penny_top_words_redistributed.csv', \n",
    "            'Sheldon_top_words_redistributed.csv',\n",
    "            'Raj_top_words_redistributed.csv']\n",
    "\n",
    "for input_file, output_file in zip(input_files, output_files):\n",
    "    redistribute_counts(input_file, output_file)\n"
   ]
  },
  {
   "cell_type": "code",
   "execution_count": null,
   "id": "6f542990",
   "metadata": {},
   "outputs": [],
   "source": []
  }
 ],
 "metadata": {
  "kernelspec": {
   "display_name": "Python 3",
   "language": "python",
   "name": "python3"
  },
  "language_info": {
   "codemirror_mode": {
    "name": "ipython",
    "version": 3
   },
   "file_extension": ".py",
   "mimetype": "text/x-python",
   "name": "python",
   "nbconvert_exporter": "python",
   "pygments_lexer": "ipython3",
   "version": "3.12.8"
  }
 },
 "nbformat": 4,
 "nbformat_minor": 5
}
